{
 "cells": [
  {
   "cell_type": "markdown",
   "id": "add05076-2ee8-495b-9d26-268fafba8de7",
   "metadata": {},
   "source": [
    "# Wandb Tutorial\n",
    "> Wandb tutorial written in nbdev for Gradients Tech internal usage"
   ]
  },
  {
   "cell_type": "markdown",
   "id": "63fa2d00-527b-4f92-a000-cdf113e80e76",
   "metadata": {},
   "source": [
    "{{<image https://miro.medium.com/max/1400/1*yIPIuNIn6ar7MvQnNqlWlQ.jpeg>}}"
   ]
  },
  {
   "cell_type": "code",
   "execution_count": null,
   "id": "cfb45443-f9a1-4cd1-8aed-7d23dd494a47",
   "metadata": {},
   "outputs": [],
   "source": []
  }
 ],
 "metadata": {
  "kernelspec": {
   "display_name": "Python 3 (ipykernel)",
   "language": "python",
   "name": "python3"
  },
  "language_info": {
   "codemirror_mode": {
    "name": "ipython",
    "version": 3
   },
   "file_extension": ".py",
   "mimetype": "text/x-python",
   "name": "python",
   "nbconvert_exporter": "python",
   "pygments_lexer": "ipython3",
   "version": "3.10.8"
  }
 },
 "nbformat": 4,
 "nbformat_minor": 5
}
