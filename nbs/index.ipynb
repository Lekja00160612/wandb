{
 "cells": [
  {
   "cell_type": "markdown",
   "id": "add05076-2ee8-495b-9d26-268fafba8de7",
   "metadata": {},
   "source": [
    "# Wandb Tutorial"
   ]
  },
  {
   "cell_type": "code",
   "execution_count": null,
   "id": "d46255e6-4bc0-45fd-af8d-3748af9d8809",
   "metadata": {},
   "outputs": [],
   "source": []
  }
 ],
 "metadata": {
  "kernelspec": {
   "display_name": "Python 3 (ipykernel)",
   "language": "python",
   "name": "python3"
  },
  "language_info": {
   "codemirror_mode": {
    "name": "ipython",
    "version": 3
   },
   "file_extension": ".py",
   "mimetype": "text/x-python",
   "name": "python",
   "nbconvert_exporter": "python",
   "pygments_lexer": "ipython3",
   "version": "3.10.8"
  }
 },
 "nbformat": 4,
 "nbformat_minor": 5
}
