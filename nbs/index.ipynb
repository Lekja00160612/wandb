{
 "cells": [
  {
   "cell_type": "markdown",
   "id": "add05076-2ee8-495b-9d26-268fafba8de7",
   "metadata": {},
   "source": [
    "# Wandb Tutorial\n",
    "> Wandb tutorial written in nbdev for Gradients Tech internal usage"
   ]
  },
  {
   "cell_type": "markdown",
   "id": "7e30af5b-d347-4b40-b70a-c880902af722",
   "metadata": {},
   "source": [
    "# Purpose of this tutorial\n",
    "- [Introduction](https://lekja00160612.github.io/wandb/intro.html) to wandb\n",
    "\n",
    "- [Learn](https://lekja00160612.github.io/wandb/02_hands-on/01_initialization.html) about wandb step by step\n",
    "\n",
    "- Give a [code example](https://lekja00160612.github.io/wandb/code_example.html) using wandb in training a model. If you are confident in your ability to learn from example, read this first."
   ]
  },
  {
   "cell_type": "markdown",
   "id": "63fa2d00-527b-4f92-a000-cdf113e80e76",
   "metadata": {},
   "source": [
    "![:))))))))](https://miro.medium.com/max/1400/1*yIPIuNIn6ar7MvQnNqlWlQ.jpeg)"
   ]
  }
 ],
 "metadata": {
  "kernelspec": {
   "display_name": "Python 3 (ipykernel)",
   "language": "python",
   "name": "python3"
  },
  "language_info": {
   "codemirror_mode": {
    "name": "ipython",
    "version": 3
   },
   "file_extension": ".py",
   "mimetype": "text/x-python",
   "name": "python",
   "nbconvert_exporter": "python",
   "pygments_lexer": "ipython3",
   "version": "3.10.8"
  }
 },
 "nbformat": 4,
 "nbformat_minor": 5
}
