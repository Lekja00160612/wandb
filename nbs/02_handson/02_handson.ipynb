{
 "cells": [
  {
   "cell_type": "markdown",
   "id": "8073cc55-2824-421a-bb65-9bb289d6fca1",
   "metadata": {},
   "source": [
    "# Hands-On\n",
    "> Use Weights & Biases for experiment tracking, dataset versioning, and model management"
   ]
  }
 ],
 "metadata": {
  "kernelspec": {
   "display_name": "Python 3 (ipykernel)",
   "language": "python",
   "name": "python3"
  },
  "language_info": {
   "codemirror_mode": {
    "name": "ipython",
    "version": 3
   },
   "file_extension": ".py",
   "mimetype": "text/x-python",
   "name": "python",
   "nbconvert_exporter": "python",
   "pygments_lexer": "ipython3",
   "version": "3.10.8"
  }
 },
 "nbformat": 4,
 "nbformat_minor": 5
}
