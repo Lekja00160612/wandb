{
 "cells": [
  {
   "cell_type": "markdown",
   "id": "5fb8f052-7eb3-4b3a-8631-fecc965f00ca",
   "metadata": {},
   "source": [
    "# Log Data with wandb.log\n",
    "> Keep track of metrics, videos, custom plots, and more"
   ]
  },
  {
   "cell_type": "markdown",
   "id": "8a781514-68fc-4a80-af58-5188bd2763e3",
   "metadata": {},
   "source": [
    "## Example Usage"
   ]
  },
  {
   "cell_type": "code",
   "execution_count": null,
   "id": "a5cad56e-ac76-4250-90da-4837ad8b9658",
   "metadata": {},
   "outputs": [],
   "source": [
    "wandb.log({\"loss\": 0.314, \"epoch\": 5,\n",
    "           \"inputs\": wandb.Image(inputs),\n",
    "           \"logits\": wandb.Histogram(ouputs),\n",
    "           \"captions\": wandb.Html(captions)})"
   ]
  },
  {
   "cell_type": "markdown",
   "id": "67e2757a-0076-4508-b555-9976d44ab243",
   "metadata": {},
   "source": [
    "Click [here](https://docs.wandb.ai/guides/track/log) for more about wandb.log()"
   ]
  }
 ],
 "metadata": {
  "kernelspec": {
   "display_name": "Python 3 (ipykernel)",
   "language": "python",
   "name": "python3"
  },
  "language_info": {
   "codemirror_mode": {
    "name": "ipython",
    "version": 3
   },
   "file_extension": ".py",
   "mimetype": "text/x-python",
   "name": "python",
   "nbconvert_exporter": "python",
   "pygments_lexer": "ipython3",
   "version": "3.10.8"
  }
 },
 "nbformat": 4,
 "nbformat_minor": 5
}
