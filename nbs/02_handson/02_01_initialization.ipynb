{
 "cells": [
  {
   "cell_type": "markdown",
   "id": "5c392de6-fc3e-4c8f-b215-c606f8a91124",
   "metadata": {},
   "source": [
    "# Initialize with `wandb.init()`\n",
    "> Creates a new run in W&B and launches a background process to sync data."
   ]
  },
  {
   "cell_type": "markdown",
   "id": "74a3623e-6e27-478a-a5b8-13f6b33a80ce",
   "metadata": {},
   "source": [
    ":::{.callout-note}\n",
    "Take a look at [`wandb.init()` reference document](https://docs.wandb.ai/ref/python/init).\n",
    ":::"
   ]
  },
  {
   "cell_type": "markdown",
   "id": "60f105ad-97fa-47ed-aef8-384e81eb24ed",
   "metadata": {},
   "source": [
    "## Basic experiment"
   ]
  },
  {
   "cell_type": "code",
   "execution_count": 4,
   "id": "3d6542c3-27ac-42ff-b5e8-8dd08afd35da",
   "metadata": {
    "tags": []
   },
   "outputs": [
    {
     "name": "stderr",
     "output_type": "stream",
     "text": [
      "Failed to detect the name of this notebook, you can set it manually with the WANDB_NOTEBOOK_NAME environment variable to enable code saving.\n",
      "\u001b[34m\u001b[1mwandb\u001b[0m: Logging into wandb.ai. (Learn how to deploy a W&B server locally: https://wandb.me/wandb-server)\n",
      "\u001b[34m\u001b[1mwandb\u001b[0m: You can find your API key in your browser here: https://wandb.ai/authorize\n",
      "\u001b[34m\u001b[1mwandb\u001b[0m: Paste an API key from your profile and hit enter, or press ctrl+c to quit:"
     ]
    },
    {
     "name": "stdin",
     "output_type": "stream",
     "text": [
      "  ········\n"
     ]
    },
    {
     "name": "stderr",
     "output_type": "stream",
     "text": [
      "\u001b[34m\u001b[1mwandb\u001b[0m: Appending key for api.wandb.ai to your netrc file: /home/ndhnguyen/.netrc\n",
      "\u001b[34m\u001b[1mwandb\u001b[0m: Currently logged in as: \u001b[33mduongdayne1909\u001b[0m (\u001b[33mgradients_\u001b[0m). Use \u001b[1m`wandb login --relogin`\u001b[0m to force relogin\n"
     ]
    },
    {
     "data": {
      "text/html": [
       "Tracking run with wandb version 0.13.9"
      ],
      "text/plain": [
       "<IPython.core.display.HTML object>"
      ]
     },
     "metadata": {},
     "output_type": "display_data"
    },
    {
     "data": {
      "text/html": [
       "Run data is saved locally in <code>/home/ndhnguyen/wandb_tutorial/nbs/02_handson/wandb/run-20230203_141111-lae4oqcm</code>"
      ],
      "text/plain": [
       "<IPython.core.display.HTML object>"
      ]
     },
     "metadata": {},
     "output_type": "display_data"
    },
    {
     "data": {
      "text/html": [
       "Syncing run <strong><a href=\"https://wandb.ai/gradients_/wandb_tutorial-nbs_02_handson/runs/lae4oqcm\" target=\"_blank\">cheerful-tiger-1</a></strong> to <a href=\"https://wandb.ai/gradients_/wandb_tutorial-nbs_02_handson\" target=\"_blank\">Weights & Biases</a> (<a href=\"https://wandb.me/run\" target=\"_blank\">docs</a>)<br/>"
      ],
      "text/plain": [
       "<IPython.core.display.HTML object>"
      ]
     },
     "metadata": {},
     "output_type": "display_data"
    },
    {
     "data": {
      "text/html": [
       " View project at <a href=\"https://wandb.ai/gradients_/wandb_tutorial-nbs_02_handson\" target=\"_blank\">https://wandb.ai/gradients_/wandb_tutorial-nbs_02_handson</a>"
      ],
      "text/plain": [
       "<IPython.core.display.HTML object>"
      ]
     },
     "metadata": {},
     "output_type": "display_data"
    },
    {
     "data": {
      "text/html": [
       " View run at <a href=\"https://wandb.ai/gradients_/wandb_tutorial-nbs_02_handson/runs/lae4oqcm\" target=\"_blank\">https://wandb.ai/gradients_/wandb_tutorial-nbs_02_handson/runs/lae4oqcm</a>"
      ],
      "text/plain": [
       "<IPython.core.display.HTML object>"
      ]
     },
     "metadata": {},
     "output_type": "display_data"
    },
    {
     "data": {
      "text/html": [
       "<button onClick=\"this.nextSibling.style.display='block';this.style.display='none';\">Display W&B run</button><iframe src=\"https://wandb.ai/gradients_/wandb_tutorial-nbs_02_handson/runs/lae4oqcm?jupyter=true\" style=\"border:none;width:100%;height:420px;display:none;\"></iframe>"
      ],
      "text/plain": [
       "<wandb.sdk.wandb_run.Run at 0x7f9c9c3256c0>"
      ]
     },
     "execution_count": 4,
     "metadata": {},
     "output_type": "execute_result"
    }
   ],
   "source": [
    "import wandb\n",
    "\n",
    "# Login into wandb\n",
    "wandb.login()\n",
    "\n",
    "# Initialize a new run\n",
    "wandb.init()"
   ]
  },
  {
   "cell_type": "markdown",
   "id": "85cb9b83-ae37-4edc-888a-ee77558ec5d8",
   "metadata": {},
   "source": [
    "After initializing, wandb provides you a URL for viewing project and run on its server.\n",
    "\n",
    "Let's make a fake training process:"
   ]
  },
  {
   "cell_type": "code",
   "execution_count": 6,
   "id": "91ab1a38-5294-4809-85b0-233551567860",
   "metadata": {},
   "outputs": [],
   "source": [
    "import random\n",
    "\n",
    "epochs = 10\n",
    "offset = random.random() / 5\n",
    "for epoch in range(2, epochs):\n",
    "    acc = 1 - 2 ** -epoch - random.random() / epoch - offset\n",
    "    loss = 2 ** -epoch + random.random() / epoch + offset\n",
    "\n",
    "    wandb.log({\"acc\": acc, \"loss\": loss})"
   ]
  },
  {
   "cell_type": "markdown",
   "id": "6c72f588-f905-40eb-8b54-3a180b8851e4",
   "metadata": {},
   "source": [
    "Now go to the URL to check the result:\n",
    "![result](assets/image.png)"
   ]
  },
  {
   "cell_type": "markdown",
   "id": "4161420f-eabd-44ee-ad5f-06cbbe15ebb5",
   "metadata": {},
   "source": [
    "Remember to finish the run:"
   ]
  },
  {
   "cell_type": "code",
   "execution_count": 7,
   "id": "b8d112a6-0da9-4b8a-b975-d35ae96a7fe2",
   "metadata": {},
   "outputs": [
    {
     "data": {
      "text/html": [
       "Waiting for W&B process to finish... <strong style=\"color:green\">(success).</strong>"
      ],
      "text/plain": [
       "<IPython.core.display.HTML object>"
      ]
     },
     "metadata": {},
     "output_type": "display_data"
    },
    {
     "data": {
      "text/html": [
       "<style>\n",
       "    table.wandb td:nth-child(1) { padding: 0 10px; text-align: left ; width: auto;} td:nth-child(2) {text-align: left ; width: 100%}\n",
       "    .wandb-row { display: flex; flex-direction: row; flex-wrap: wrap; justify-content: flex-start; width: 100% }\n",
       "    .wandb-col { display: flex; flex-direction: column; flex-basis: 100%; flex: 1; padding: 10px; }\n",
       "    </style>\n",
       "<div class=\"wandb-row\"><div class=\"wandb-col\"><h3>Run history:</h3><br/><table class=\"wandb\"><tr><td>acc</td><td>▁▆▆▆▆▇▇█</td></tr><tr><td>loss</td><td>█▆▃▁▂▁▁▁</td></tr></table><br/></div><div class=\"wandb-col\"><h3>Run summary:</h3><br/><table class=\"wandb\"><tr><td>acc</td><td>0.89753</td></tr><tr><td>loss</td><td>0.14017</td></tr></table><br/></div></div>"
      ],
      "text/plain": [
       "<IPython.core.display.HTML object>"
      ]
     },
     "metadata": {},
     "output_type": "display_data"
    },
    {
     "data": {
      "text/html": [
       " View run <strong style=\"color:#cdcd00\">cheerful-tiger-1</strong> at: <a href=\"https://wandb.ai/gradients_/wandb_tutorial-nbs_02_handson/runs/lae4oqcm\" target=\"_blank\">https://wandb.ai/gradients_/wandb_tutorial-nbs_02_handson/runs/lae4oqcm</a><br/>Synced 5 W&B file(s), 0 media file(s), 0 artifact file(s) and 0 other file(s)"
      ],
      "text/plain": [
       "<IPython.core.display.HTML object>"
      ]
     },
     "metadata": {},
     "output_type": "display_data"
    },
    {
     "data": {
      "text/html": [
       "Find logs at: <code>./wandb/run-20230203_141111-lae4oqcm/logs</code>"
      ],
      "text/plain": [
       "<IPython.core.display.HTML object>"
      ]
     },
     "metadata": {},
     "output_type": "display_data"
    }
   ],
   "source": [
    "# Mark the run as finished\n",
    "wandb.finish()"
   ]
  }
 ],
 "metadata": {
  "kernelspec": {
   "display_name": "Python 3 (ipykernel)",
   "language": "python",
   "name": "python3"
  },
  "language_info": {
   "codemirror_mode": {
    "name": "ipython",
    "version": 3
   },
   "file_extension": ".py",
   "mimetype": "text/x-python",
   "name": "python",
   "nbconvert_exporter": "python",
   "pygments_lexer": "ipython3",
   "version": "3.10.8"
  }
 },
 "nbformat": 4,
 "nbformat_minor": 5
}
