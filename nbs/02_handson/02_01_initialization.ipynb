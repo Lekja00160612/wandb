{
 "cells": [
  {
   "cell_type": "markdown",
   "id": "5c392de6-fc3e-4c8f-b215-c606f8a91124",
   "metadata": {},
   "source": [
    "# Initialize with `wandb.init()`\n",
    "> Creates a new run in W&B and launches a background process to sync data."
   ]
  },
  {
   "cell_type": "markdown",
   "id": "74a3623e-6e27-478a-a5b8-13f6b33a80ce",
   "metadata": {},
   "source": [
    ":::{.callout-note}\n",
    "Take a look at [`wandb.init()` reference document](https://docs.wandb.ai/ref/python/init).\n",
    ":::"
   ]
  },
  {
   "cell_type": "code",
   "execution_count": null,
   "id": "4acda23b-585d-4414-955d-89e9ae871623",
   "metadata": {},
   "outputs": [],
   "source": []
  }
 ],
 "metadata": {
  "kernelspec": {
   "display_name": "Python 3 (ipykernel)",
   "language": "python",
   "name": "python3"
  },
  "language_info": {
   "codemirror_mode": {
    "name": "ipython",
    "version": 3
   },
   "file_extension": ".py",
   "mimetype": "text/x-python",
   "name": "python",
   "nbconvert_exporter": "python",
   "pygments_lexer": "ipython3",
   "version": "3.10.8"
  }
 },
 "nbformat": 4,
 "nbformat_minor": 5
}
