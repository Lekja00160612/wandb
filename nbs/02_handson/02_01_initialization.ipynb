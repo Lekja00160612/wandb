{
 "cells": [
  {
   "cell_type": "markdown",
   "id": "5c392de6-fc3e-4c8f-b215-c606f8a91124",
   "metadata": {},
   "source": [
    "# Initialize with `wandb.init()`\n",
    "> Creates a new run in W&B and launches a background process to sync data."
   ]
  },
  {
   "cell_type": "markdown",
   "id": "74a3623e-6e27-478a-a5b8-13f6b33a80ce",
   "metadata": {},
   "source": [
    ":::{.callout-note}\n",
    "Take a look at [`wandb.init()` reference document](https://docs.wandb.ai/ref/python/init).\n",
    ":::"
   ]
  },
  {
   "cell_type": "markdown",
   "id": "60f105ad-97fa-47ed-aef8-384e81eb24ed",
   "metadata": {},
   "source": [
    "## Basic experiment"
   ]
  },
  {
   "cell_type": "code",
   "execution_count": null,
   "id": "3d6542c3-27ac-42ff-b5e8-8dd08afd35da",
   "metadata": {},
   "outputs": [],
   "source": [
    "import wandb\n",
    "\n",
    "# Login into wandb\n",
    "wandb.login()\n",
    "\n",
    "# Initialize a new run\n",
    "wandb.init()"
   ]
  },
  {
   "cell_type": "code",
   "execution_count": null,
   "id": "91ab1a38-5294-4809-85b0-233551567860",
   "metadata": {},
   "outputs": [],
   "source": []
  }
 ],
 "metadata": {
  "kernelspec": {
   "display_name": "Python 3 (ipykernel)",
   "language": "python",
   "name": "python3"
  },
  "language_info": {
   "codemirror_mode": {
    "name": "ipython",
    "version": 3
   },
   "file_extension": ".py",
   "mimetype": "text/x-python",
   "name": "python",
   "nbconvert_exporter": "python",
   "pygments_lexer": "ipython3",
   "version": "3.10.8"
  }
 },
 "nbformat": 4,
 "nbformat_minor": 5
}
