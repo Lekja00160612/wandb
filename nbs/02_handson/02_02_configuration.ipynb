{
 "cells": [
  {
   "cell_type": "markdown",
   "id": "279cc7d4-82ac-4d9f-b9ce-deaf0cb6dd4b",
   "metadata": {},
   "source": [
    "# Configuration with `wandb.config()`\n",
    "> Use a dictionary-like object to save your experiment configuration"
   ]
  },
  {
   "cell_type": "markdown",
   "id": "2a21d342-edf7-404e-9829-7c05397e262c",
   "metadata": {},
   "source": [
    "## Overview\n",
    "- Used to save your training configuration and any other independent variables for your experiments\n",
    "\n",
    "- You can send a nested dictionary"
   ]
  }
 ],
 "metadata": {
  "kernelspec": {
   "display_name": "Python 3 (ipykernel)",
   "language": "python",
   "name": "python3"
  },
  "language_info": {
   "codemirror_mode": {
    "name": "ipython",
    "version": 3
   },
   "file_extension": ".py",
   "mimetype": "text/x-python",
   "name": "python",
   "nbconvert_exporter": "python",
   "pygments_lexer": "ipython3",
   "version": "3.10.8"
  }
 },
 "nbformat": 4,
 "nbformat_minor": 5
}
