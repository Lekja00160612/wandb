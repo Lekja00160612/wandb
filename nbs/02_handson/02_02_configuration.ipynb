{
 "cells": [
  {
   "cell_type": "markdown",
   "id": "279cc7d4-82ac-4d9f-b9ce-deaf0cb6dd4b",
   "metadata": {},
   "source": [
    "# Configuration with `wandb.config()`\n",
    "> Use a dictionary-like object to save your experiment configuration"
   ]
  },
  {
   "cell_type": "markdown",
   "id": "2a21d342-edf7-404e-9829-7c05397e262c",
   "metadata": {},
   "source": [
    "## Overview\n",
    "- Used to save your training configuration and any other independent variables for your experiments\n",
    "\n",
    "- You can send a nested dictionary in config, wandb will flatten the names using dots in our backend\n",
    "\n",
    "- Recommended way: avoid using dots in config variable names, and use a dash or underscore instead"
   ]
  },
  {
   "cell_type": "markdown",
   "id": "f27f9819-0560-4fd1-a3d0-722f99b8a1d1",
   "metadata": {},
   "source": [
    "## Simple Example"
   ]
  },
  {
   "cell_type": "code",
   "execution_count": 1,
   "id": "561306c0-e554-4426-a0f6-f1e82ec909ee",
   "metadata": {},
   "outputs": [
    {
     "name": "stderr",
     "output_type": "stream",
     "text": [
      "Failed to detect the name of this notebook, you can set it manually with the WANDB_NOTEBOOK_NAME environment variable to enable code saving.\n",
      "\u001b[34m\u001b[1mwandb\u001b[0m: Currently logged in as: \u001b[33mduongdayne1909\u001b[0m (\u001b[33mgradients_\u001b[0m). Use \u001b[1m`wandb login --relogin`\u001b[0m to force relogin\n"
     ]
    },
    {
     "data": {
      "text/html": [
       "Tracking run with wandb version 0.13.9"
      ],
      "text/plain": [
       "<IPython.core.display.HTML object>"
      ]
     },
     "metadata": {},
     "output_type": "display_data"
    },
    {
     "data": {
      "text/html": [
       "Run data is saved locally in <code>/home/ndhnguyen/wandb_tutorial/nbs/02_handson/wandb/run-20230203_190009-1ghegg23</code>"
      ],
      "text/plain": [
       "<IPython.core.display.HTML object>"
      ]
     },
     "metadata": {},
     "output_type": "display_data"
    },
    {
     "data": {
      "text/html": [
       "Syncing run <strong><a href=\"https://wandb.ai/gradients_/wandb_tutorial-nbs_02_handson/runs/1ghegg23\" target=\"_blank\">lambent-pig-10</a></strong> to <a href=\"https://wandb.ai/gradients_/wandb_tutorial-nbs_02_handson\" target=\"_blank\">Weights & Biases</a> (<a href=\"https://wandb.me/run\" target=\"_blank\">docs</a>)<br/>"
      ],
      "text/plain": [
       "<IPython.core.display.HTML object>"
      ]
     },
     "metadata": {},
     "output_type": "display_data"
    },
    {
     "data": {
      "text/html": [
       " View project at <a href=\"https://wandb.ai/gradients_/wandb_tutorial-nbs_02_handson\" target=\"_blank\">https://wandb.ai/gradients_/wandb_tutorial-nbs_02_handson</a>"
      ],
      "text/plain": [
       "<IPython.core.display.HTML object>"
      ]
     },
     "metadata": {},
     "output_type": "display_data"
    },
    {
     "data": {
      "text/html": [
       " View run at <a href=\"https://wandb.ai/gradients_/wandb_tutorial-nbs_02_handson/runs/1ghegg23\" target=\"_blank\">https://wandb.ai/gradients_/wandb_tutorial-nbs_02_handson/runs/1ghegg23</a>"
      ],
      "text/plain": [
       "<IPython.core.display.HTML object>"
      ]
     },
     "metadata": {},
     "output_type": "display_data"
    },
    {
     "data": {
      "text/html": [
       "<button onClick=\"this.nextSibling.style.display='block';this.style.display='none';\">Display W&B run</button><iframe src=\"https://wandb.ai/gradients_/wandb_tutorial-nbs_02_handson/runs/1ghegg23?jupyter=true\" style=\"border:none;width:100%;height:420px;display:none;\"></iframe>"
      ],
      "text/plain": [
       "<wandb.sdk.wandb_run.Run at 0x7f9631e9aad0>"
      ]
     },
     "execution_count": 1,
     "metadata": {},
     "output_type": "execute_result"
    }
   ],
   "source": [
    "#| hide\n",
    "import wandb\n",
    "wandb.init()"
   ]
  },
  {
   "cell_type": "code",
   "execution_count": 3,
   "id": "c992e91b-ccc8-4e96-b95c-e90f9334d0a0",
   "metadata": {},
   "outputs": [
    {
     "data": {
      "text/html": [
       "Finishing last run (ID:1ghegg23) before initializing another..."
      ],
      "text/plain": [
       "<IPython.core.display.HTML object>"
      ]
     },
     "metadata": {},
     "output_type": "display_data"
    },
    {
     "data": {
      "text/html": [
       "Waiting for W&B process to finish... <strong style=\"color:green\">(success).</strong>"
      ],
      "text/plain": [
       "<IPython.core.display.HTML object>"
      ]
     },
     "metadata": {},
     "output_type": "display_data"
    },
    {
     "data": {
      "text/html": [
       " View run <strong style=\"color:#cdcd00\">lambent-pig-10</strong> at: <a href=\"https://wandb.ai/gradients_/wandb_tutorial-nbs_02_handson/runs/1ghegg23\" target=\"_blank\">https://wandb.ai/gradients_/wandb_tutorial-nbs_02_handson/runs/1ghegg23</a><br/>Synced 5 W&B file(s), 0 media file(s), 0 artifact file(s) and 0 other file(s)"
      ],
      "text/plain": [
       "<IPython.core.display.HTML object>"
      ]
     },
     "metadata": {},
     "output_type": "display_data"
    },
    {
     "data": {
      "text/html": [
       "Find logs at: <code>./wandb/run-20230203_190009-1ghegg23/logs</code>"
      ],
      "text/plain": [
       "<IPython.core.display.HTML object>"
      ]
     },
     "metadata": {},
     "output_type": "display_data"
    },
    {
     "data": {
      "text/html": [
       "Successfully finished last run (ID:1ghegg23). Initializing new run:<br/>"
      ],
      "text/plain": [
       "<IPython.core.display.HTML object>"
      ]
     },
     "metadata": {},
     "output_type": "display_data"
    },
    {
     "data": {
      "text/html": [
       "Tracking run with wandb version 0.13.9"
      ],
      "text/plain": [
       "<IPython.core.display.HTML object>"
      ]
     },
     "metadata": {},
     "output_type": "display_data"
    },
    {
     "data": {
      "text/html": [
       "Run data is saved locally in <code>/home/ndhnguyen/wandb_tutorial/nbs/02_handson/wandb/run-20230203_190542-f80biwzv</code>"
      ],
      "text/plain": [
       "<IPython.core.display.HTML object>"
      ]
     },
     "metadata": {},
     "output_type": "display_data"
    },
    {
     "data": {
      "text/html": [
       "Syncing run <strong><a href=\"https://wandb.ai/gradients_/wandb_tutorial-nbs_02_handson/runs/f80biwzv\" target=\"_blank\">enchanting-lamp-11</a></strong> to <a href=\"https://wandb.ai/gradients_/wandb_tutorial-nbs_02_handson\" target=\"_blank\">Weights & Biases</a> (<a href=\"https://wandb.me/run\" target=\"_blank\">docs</a>)<br/>"
      ],
      "text/plain": [
       "<IPython.core.display.HTML object>"
      ]
     },
     "metadata": {},
     "output_type": "display_data"
    },
    {
     "data": {
      "text/html": [
       " View project at <a href=\"https://wandb.ai/gradients_/wandb_tutorial-nbs_02_handson\" target=\"_blank\">https://wandb.ai/gradients_/wandb_tutorial-nbs_02_handson</a>"
      ],
      "text/plain": [
       "<IPython.core.display.HTML object>"
      ]
     },
     "metadata": {},
     "output_type": "display_data"
    },
    {
     "data": {
      "text/html": [
       " View run at <a href=\"https://wandb.ai/gradients_/wandb_tutorial-nbs_02_handson/runs/f80biwzv\" target=\"_blank\">https://wandb.ai/gradients_/wandb_tutorial-nbs_02_handson/runs/f80biwzv</a>"
      ],
      "text/plain": [
       "<IPython.core.display.HTML object>"
      ]
     },
     "metadata": {},
     "output_type": "display_data"
    },
    {
     "data": {
      "text/html": [
       "<button onClick=\"this.nextSibling.style.display='block';this.style.display='none';\">Display W&B run</button><iframe src=\"https://wandb.ai/gradients_/wandb_tutorial-nbs_02_handson/runs/f80biwzv?jupyter=true\" style=\"border:none;width:100%;height:420px;display:none;\"></iframe>"
      ],
      "text/plain": [
       "<wandb.sdk.wandb_run.Run at 0x7f963153b0a0>"
      ]
     },
     "execution_count": 3,
     "metadata": {},
     "output_type": "execute_result"
    }
   ],
   "source": [
    "wandb.config.epochs = 4\n",
    "wandb.config.batch_size = 32\n",
    "# you can also initialize your run with a config\n",
    "wandb.init(config={\"epochs\": 4})"
   ]
  },
  {
   "cell_type": "markdown",
   "id": "96a0ee86-c942-4d8f-8c87-6b0b8b9dbbfd",
   "metadata": {},
   "source": [
    "## Efficient Initialization"
   ]
  },
  {
   "cell_type": "code",
   "execution_count": 4,
   "id": "f6003031-2c96-4bb8-951c-c93cdf6fdfd3",
   "metadata": {},
   "outputs": [
    {
     "data": {
      "text/html": [
       "Finishing last run (ID:f80biwzv) before initializing another..."
      ],
      "text/plain": [
       "<IPython.core.display.HTML object>"
      ]
     },
     "metadata": {},
     "output_type": "display_data"
    },
    {
     "data": {
      "text/html": [
       "Waiting for W&B process to finish... <strong style=\"color:green\">(success).</strong>"
      ],
      "text/plain": [
       "<IPython.core.display.HTML object>"
      ]
     },
     "metadata": {},
     "output_type": "display_data"
    },
    {
     "data": {
      "text/html": [
       " View run <strong style=\"color:#cdcd00\">enchanting-lamp-11</strong> at: <a href=\"https://wandb.ai/gradients_/wandb_tutorial-nbs_02_handson/runs/f80biwzv\" target=\"_blank\">https://wandb.ai/gradients_/wandb_tutorial-nbs_02_handson/runs/f80biwzv</a><br/>Synced 5 W&B file(s), 0 media file(s), 0 artifact file(s) and 0 other file(s)"
      ],
      "text/plain": [
       "<IPython.core.display.HTML object>"
      ]
     },
     "metadata": {},
     "output_type": "display_data"
    },
    {
     "data": {
      "text/html": [
       "Find logs at: <code>./wandb/run-20230203_190542-f80biwzv/logs</code>"
      ],
      "text/plain": [
       "<IPython.core.display.HTML object>"
      ]
     },
     "metadata": {},
     "output_type": "display_data"
    },
    {
     "data": {
      "text/html": [
       "Successfully finished last run (ID:f80biwzv). Initializing new run:<br/>"
      ],
      "text/plain": [
       "<IPython.core.display.HTML object>"
      ]
     },
     "metadata": {},
     "output_type": "display_data"
    },
    {
     "data": {
      "text/html": [
       "Tracking run with wandb version 0.13.9"
      ],
      "text/plain": [
       "<IPython.core.display.HTML object>"
      ]
     },
     "metadata": {},
     "output_type": "display_data"
    },
    {
     "data": {
      "text/html": [
       "Run data is saved locally in <code>/home/ndhnguyen/wandb_tutorial/nbs/02_handson/wandb/run-20230203_190656-mlw8z2i2</code>"
      ],
      "text/plain": [
       "<IPython.core.display.HTML object>"
      ]
     },
     "metadata": {},
     "output_type": "display_data"
    },
    {
     "data": {
      "text/html": [
       "Syncing run <strong><a href=\"https://wandb.ai/gradients_/wandb_tutorial-nbs_02_handson/runs/mlw8z2i2\" target=\"_blank\">flashing-rabbit-12</a></strong> to <a href=\"https://wandb.ai/gradients_/wandb_tutorial-nbs_02_handson\" target=\"_blank\">Weights & Biases</a> (<a href=\"https://wandb.me/run\" target=\"_blank\">docs</a>)<br/>"
      ],
      "text/plain": [
       "<IPython.core.display.HTML object>"
      ]
     },
     "metadata": {},
     "output_type": "display_data"
    },
    {
     "data": {
      "text/html": [
       " View project at <a href=\"https://wandb.ai/gradients_/wandb_tutorial-nbs_02_handson\" target=\"_blank\">https://wandb.ai/gradients_/wandb_tutorial-nbs_02_handson</a>"
      ],
      "text/plain": [
       "<IPython.core.display.HTML object>"
      ]
     },
     "metadata": {},
     "output_type": "display_data"
    },
    {
     "data": {
      "text/html": [
       " View run at <a href=\"https://wandb.ai/gradients_/wandb_tutorial-nbs_02_handson/runs/mlw8z2i2\" target=\"_blank\">https://wandb.ai/gradients_/wandb_tutorial-nbs_02_handson/runs/mlw8z2i2</a>"
      ],
      "text/plain": [
       "<IPython.core.display.HTML object>"
      ]
     },
     "metadata": {},
     "output_type": "display_data"
    }
   ],
   "source": [
    "#| \n",
    "wandb.init(config={\"epochs\": 4, \"batch_size\": 32})\n",
    "# later\n",
    "wandb.config.update({\"lr\": 0.1, \"channels\": 16})"
   ]
  },
  {
   "cell_type": "markdown",
   "id": "8ad4734c-22c6-40ce-804a-4c68c3146bbe",
   "metadata": {},
   "source": [
    "## Other ways to config"
   ]
  },
  {
   "cell_type": "markdown",
   "id": "0689ede0-5c87-4a14-87b6-d92e1af4dc7f",
   "metadata": {},
   "source": [
    "### Using `argparse`\n",
    "> This is convenient for quickly testing different hyperparameter values from the command line."
   ]
  },
  {
   "cell_type": "code",
   "execution_count": 5,
   "id": "5832c1f4-0eb3-477f-b4c1-1e94237ac106",
   "metadata": {},
   "outputs": [],
   "source": [
    "#| hide\n",
    "import argparse"
   ]
  },
  {
   "cell_type": "code",
   "execution_count": 6,
   "id": "b0cfa8c8-7e11-42da-b9f5-6535809e5c81",
   "metadata": {},
   "outputs": [
    {
     "data": {
      "text/html": [
       "Finishing last run (ID:mlw8z2i2) before initializing another..."
      ],
      "text/plain": [
       "<IPython.core.display.HTML object>"
      ]
     },
     "metadata": {},
     "output_type": "display_data"
    },
    {
     "data": {
      "text/html": [
       "Waiting for W&B process to finish... <strong style=\"color:green\">(success).</strong>"
      ],
      "text/plain": [
       "<IPython.core.display.HTML object>"
      ]
     },
     "metadata": {},
     "output_type": "display_data"
    },
    {
     "data": {
      "text/html": [
       " View run <strong style=\"color:#cdcd00\">flashing-rabbit-12</strong> at: <a href=\"https://wandb.ai/gradients_/wandb_tutorial-nbs_02_handson/runs/mlw8z2i2\" target=\"_blank\">https://wandb.ai/gradients_/wandb_tutorial-nbs_02_handson/runs/mlw8z2i2</a><br/>Synced 5 W&B file(s), 0 media file(s), 0 artifact file(s) and 0 other file(s)"
      ],
      "text/plain": [
       "<IPython.core.display.HTML object>"
      ]
     },
     "metadata": {},
     "output_type": "display_data"
    },
    {
     "data": {
      "text/html": [
       "Find logs at: <code>./wandb/run-20230203_190656-mlw8z2i2/logs</code>"
      ],
      "text/plain": [
       "<IPython.core.display.HTML object>"
      ]
     },
     "metadata": {},
     "output_type": "display_data"
    },
    {
     "data": {
      "text/html": [
       "Successfully finished last run (ID:mlw8z2i2). Initializing new run:<br/>"
      ],
      "text/plain": [
       "<IPython.core.display.HTML object>"
      ]
     },
     "metadata": {},
     "output_type": "display_data"
    },
    {
     "data": {
      "text/html": [
       "Tracking run with wandb version 0.13.9"
      ],
      "text/plain": [
       "<IPython.core.display.HTML object>"
      ]
     },
     "metadata": {},
     "output_type": "display_data"
    },
    {
     "data": {
      "text/html": [
       "Run data is saved locally in <code>/home/ndhnguyen/wandb_tutorial/nbs/02_handson/wandb/run-20230203_190806-neqn5jpq</code>"
      ],
      "text/plain": [
       "<IPython.core.display.HTML object>"
      ]
     },
     "metadata": {},
     "output_type": "display_data"
    },
    {
     "data": {
      "text/html": [
       "Syncing run <strong><a href=\"https://wandb.ai/gradients_/wandb_tutorial-nbs_02_handson/runs/neqn5jpq\" target=\"_blank\">glistening-lamp-13</a></strong> to <a href=\"https://wandb.ai/gradients_/wandb_tutorial-nbs_02_handson\" target=\"_blank\">Weights & Biases</a> (<a href=\"https://wandb.me/run\" target=\"_blank\">docs</a>)<br/>"
      ],
      "text/plain": [
       "<IPython.core.display.HTML object>"
      ]
     },
     "metadata": {},
     "output_type": "display_data"
    },
    {
     "data": {
      "text/html": [
       " View project at <a href=\"https://wandb.ai/gradients_/wandb_tutorial-nbs_02_handson\" target=\"_blank\">https://wandb.ai/gradients_/wandb_tutorial-nbs_02_handson</a>"
      ],
      "text/plain": [
       "<IPython.core.display.HTML object>"
      ]
     },
     "metadata": {},
     "output_type": "display_data"
    },
    {
     "data": {
      "text/html": [
       " View run at <a href=\"https://wandb.ai/gradients_/wandb_tutorial-nbs_02_handson/runs/neqn5jpq\" target=\"_blank\">https://wandb.ai/gradients_/wandb_tutorial-nbs_02_handson/runs/neqn5jpq</a>"
      ],
      "text/plain": [
       "<IPython.core.display.HTML object>"
      ]
     },
     "metadata": {},
     "output_type": "display_data"
    },
    {
     "name": "stderr",
     "output_type": "stream",
     "text": [
      "usage: ipykernel_launcher.py [-h] [-b N]\n",
      "ipykernel_launcher.py: error: unrecognized arguments: -f /home/ndhnguyen/.local/share/jupyter/runtime/kernel-88884939-4437-42a8-bf60-3b70a4e3909c.json\n"
     ]
    },
    {
     "ename": "SystemExit",
     "evalue": "2",
     "output_type": "error",
     "traceback": [
      "An exception has occurred, use %tb to see the full traceback.\n",
      "\u001b[0;31mSystemExit\u001b[0m\u001b[0;31m:\u001b[0m 2\n"
     ]
    },
    {
     "name": "stderr",
     "output_type": "stream",
     "text": [
      "/opt/conda/lib/python3.10/site-packages/IPython/core/interactiveshell.py:3450: UserWarning: To exit: use 'exit', 'quit', or Ctrl-D.\n",
      "  warn(\"To exit: use 'exit', 'quit', or Ctrl-D.\", stacklevel=1)\n"
     ]
    }
   ],
   "source": [
    "wandb.init(config={\"lr\": 0.1})\n",
    "wandb.config.epochs = 4\n",
    "\n",
    "parser = argparse.ArgumentParser()\n",
    "parser.add_argument('-b', '--batch-size', type=int, default=8, metavar='N',\n",
    "                     help='input batch size for training (default: 8)')\n",
    "args = parser.parse_args()\n",
    "wandb.config.update(args) # adds all of the arguments as config variables"
   ]
  },
  {
   "cell_type": "markdown",
   "id": "1e343042-7501-400e-9f89-7f8283a25781",
   "metadata": {},
   "source": [
    "### Using `absl.FLAGS`"
   ]
  },
  {
   "cell_type": "code",
   "execution_count": 7,
   "id": "6d3c0c59-89a0-4733-9f44-eab8fd5d6579",
   "metadata": {},
   "outputs": [
    {
     "name": "stdout",
     "output_type": "stream",
     "text": [
      "Requirement already satisfied: absl-py in /opt/conda/lib/python3.10/site-packages (1.4.0)\n"
     ]
    }
   ],
   "source": [
    "#| hide \n",
    "!pip install absl-py"
   ]
  },
  {
   "cell_type": "code",
   "execution_count": 8,
   "id": "c5b716f0-e5b0-4092-bcf4-339eecb753f2",
   "metadata": {},
   "outputs": [],
   "source": [
    "from absl import flags\n",
    "\n",
    "FLAGS = flags.FLAGS\n",
    "\n",
    "flags.DEFINE_string(\"model\", None, \"model to run\") # name, default, help\n",
    "wandb.config.update(flags.FLAGS) # adds all absl flags to config"
   ]
  },
  {
   "cell_type": "markdown",
   "id": "fcdd42e7-f42b-4de0-8ff2-31ac5d065249",
   "metadata": {},
   "source": [
    "### Using `File-Based Configs`\n",
    "> Create a `config-defaults.yaml` file, it will automatically be loaded into `wandb.config`."
   ]
  },
  {
   "cell_type": "code",
   "execution_count": null,
   "id": "675f8626-3a06-4370-a063-e561af042de2",
   "metadata": {},
   "outputs": [],
   "source": [
    "# sample for `config-defaults.yaml` file\n",
    "epochs:\n",
    "  desc: Number of epochs to train over\n",
    "  value: 100\n",
    "batch_size:\n",
    "  desc: Size of each mini-batch\n",
    "  value: 32"
   ]
  },
  {
   "cell_type": "markdown",
   "id": "7b4fbb4a-aad7-448d-9617-b53779b18418",
   "metadata": {},
   "source": [
    "## Update Config Files\n",
    "> You can use the public API to add values your `config` file, even after the run has finished."
   ]
  },
  {
   "cell_type": "code",
   "execution_count": null,
   "id": "6a452039-8f6e-41e7-beb3-fce8c0ddfa8b",
   "metadata": {},
   "outputs": [],
   "source": [
    "import wandb\n",
    "api = wandb.Api()\n",
    "run = api.run(\"username/project/run_id\")\n",
    "run.config[\"foo\"] = 32\n",
    "run.update()"
   ]
  }
 ],
 "metadata": {
  "kernelspec": {
   "display_name": "Python 3 (ipykernel)",
   "language": "python",
   "name": "python3"
  },
  "language_info": {
   "codemirror_mode": {
    "name": "ipython",
    "version": 3
   },
   "file_extension": ".py",
   "mimetype": "text/x-python",
   "name": "python",
   "nbconvert_exporter": "python",
   "pygments_lexer": "ipython3",
   "version": "3.10.8"
  }
 },
 "nbformat": 4,
 "nbformat_minor": 5
}
