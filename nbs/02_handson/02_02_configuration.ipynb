{
 "cells": [
  {
   "cell_type": "markdown",
   "id": "279cc7d4-82ac-4d9f-b9ce-deaf0cb6dd4b",
   "metadata": {},
   "source": [
    "# Configuration with `wandb.config()`\n",
    "> Use a dictionary-like object to save your experiment configuration"
   ]
  },
  {
   "cell_type": "markdown",
   "id": "2a21d342-edf7-404e-9829-7c05397e262c",
   "metadata": {},
   "source": [
    "## Overview\n",
    "- Used to save your training configuration and any other independent variables for your experiments\n",
    "\n",
    "- You can send a nested dictionary in config, wandb will flatten the names using dots in our backend\n",
    "\n",
    "- Recommended way: avoid using dots in config variable names, and use a dash or underscore instead"
   ]
  },
  {
   "cell_type": "markdown",
   "id": "f27f9819-0560-4fd1-a3d0-722f99b8a1d1",
   "metadata": {},
   "source": [
    "## Simple Example"
   ]
  },
  {
   "cell_type": "code",
   "execution_count": 4,
   "id": "561306c0-e554-4426-a0f6-f1e82ec909ee",
   "metadata": {},
   "outputs": [
    {
     "name": "stderr",
     "output_type": "stream",
     "text": [
      "Failed to detect the name of this notebook, you can set it manually with the WANDB_NOTEBOOK_NAME environment variable to enable code saving.\n",
      "\u001b[34m\u001b[1mwandb\u001b[0m: Currently logged in as: \u001b[33mduongdayne1909\u001b[0m (\u001b[33mgradients_\u001b[0m). Use \u001b[1m`wandb login --relogin`\u001b[0m to force relogin\n"
     ]
    },
    {
     "data": {
      "text/html": [
       "Tracking run with wandb version 0.13.9"
      ],
      "text/plain": [
       "<IPython.core.display.HTML object>"
      ]
     },
     "metadata": {},
     "output_type": "display_data"
    },
    {
     "data": {
      "text/html": [
       "Run data is saved locally in <code>/home/ndhnguyen/wandb_tutorial/nbs/02_handson/wandb/run-20230203_145705-xyj4t76j</code>"
      ],
      "text/plain": [
       "<IPython.core.display.HTML object>"
      ]
     },
     "metadata": {},
     "output_type": "display_data"
    },
    {
     "data": {
      "text/html": [
       "Syncing run <strong><a href=\"https://wandb.ai/gradients_/wandb_tutorial-nbs_02_handson/runs/xyj4t76j\" target=\"_blank\">virtuous-cake-2</a></strong> to <a href=\"https://wandb.ai/gradients_/wandb_tutorial-nbs_02_handson\" target=\"_blank\">Weights & Biases</a> (<a href=\"https://wandb.me/run\" target=\"_blank\">docs</a>)<br/>"
      ],
      "text/plain": [
       "<IPython.core.display.HTML object>"
      ]
     },
     "metadata": {},
     "output_type": "display_data"
    },
    {
     "data": {
      "text/html": [
       " View project at <a href=\"https://wandb.ai/gradients_/wandb_tutorial-nbs_02_handson\" target=\"_blank\">https://wandb.ai/gradients_/wandb_tutorial-nbs_02_handson</a>"
      ],
      "text/plain": [
       "<IPython.core.display.HTML object>"
      ]
     },
     "metadata": {},
     "output_type": "display_data"
    },
    {
     "data": {
      "text/html": [
       " View run at <a href=\"https://wandb.ai/gradients_/wandb_tutorial-nbs_02_handson/runs/xyj4t76j\" target=\"_blank\">https://wandb.ai/gradients_/wandb_tutorial-nbs_02_handson/runs/xyj4t76j</a>"
      ],
      "text/plain": [
       "<IPython.core.display.HTML object>"
      ]
     },
     "metadata": {},
     "output_type": "display_data"
    },
    {
     "data": {
      "text/html": [
       "<button onClick=\"this.nextSibling.style.display='block';this.style.display='none';\">Display W&B run</button><iframe src=\"https://wandb.ai/gradients_/wandb_tutorial-nbs_02_handson/runs/xyj4t76j?jupyter=true\" style=\"border:none;width:100%;height:420px;display:none;\"></iframe>"
      ],
      "text/plain": [
       "<wandb.sdk.wandb_run.Run at 0x7fb0c5c7e3b0>"
      ]
     },
     "execution_count": 4,
     "metadata": {},
     "output_type": "execute_result"
    }
   ],
   "source": [
    "#| hide\n",
    "import wandb\n",
    "wandb.init()"
   ]
  },
  {
   "cell_type": "code",
   "execution_count": 5,
   "id": "c992e91b-ccc8-4e96-b95c-e90f9334d0a0",
   "metadata": {},
   "outputs": [],
   "source": [
    "wandb.config.epochs = 4\n",
    "wandb.config.batch_size = 32"
   ]
  },
  {
   "cell_type": "code",
   "execution_count": null,
   "id": "0da70890-5ccc-44fb-9830-b1c312f078b0",
   "metadata": {},
   "outputs": [],
   "source": []
  }
 ],
 "metadata": {
  "kernelspec": {
   "display_name": "Python 3 (ipykernel)",
   "language": "python",
   "name": "python3"
  },
  "language_info": {
   "codemirror_mode": {
    "name": "ipython",
    "version": 3
   },
   "file_extension": ".py",
   "mimetype": "text/x-python",
   "name": "python",
   "nbconvert_exporter": "python",
   "pygments_lexer": "ipython3",
   "version": "3.10.8"
  }
 },
 "nbformat": 4,
 "nbformat_minor": 5
}
