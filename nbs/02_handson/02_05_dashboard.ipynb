{
 "cells": [
  {
   "cell_type": "markdown",
   "id": "7524aa37-7f6d-4e62-a0a6-d5fd39651dba",
   "metadata": {},
   "source": [
    "# Dashboards\n",
    "> Create centralized, interactive, visual dashboards for your ML experiments"
   ]
  },
  {
   "cell_type": "markdown",
   "id": "fdf79763-20a1-4240-bc0d-d16fb3c5589e",
   "metadata": {},
   "source": [
    "{{< video https://youtu.be/gnD8BFuyVUA >}}"
   ]
  },
  {
   "cell_type": "markdown",
   "id": "f7cacbc3-6592-4449-9357-b594fbbb9ccc",
   "metadata": {},
   "source": [
    "Click [here](https://docs.wandb.ai/guides/track/app) for more about wandb.log()"
   ]
  },
  {
   "cell_type": "code",
   "execution_count": null,
   "id": "fac3ec23-ed9c-4a26-84bc-f889c3fba240",
   "metadata": {},
   "outputs": [],
   "source": []
  }
 ],
 "metadata": {
  "kernelspec": {
   "display_name": "Python 3 (ipykernel)",
   "language": "python",
   "name": "python3"
  },
  "language_info": {
   "codemirror_mode": {
    "name": "ipython",
    "version": 3
   },
   "file_extension": ".py",
   "mimetype": "text/x-python",
   "name": "python",
   "nbconvert_exporter": "python",
   "pygments_lexer": "ipython3",
   "version": "3.10.8"
  }
 },
 "nbformat": 4,
 "nbformat_minor": 5
}
