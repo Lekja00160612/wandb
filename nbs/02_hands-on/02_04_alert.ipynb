{
 "cells": [
  {
   "cell_type": "markdown",
   "id": "021ffacb-5598-4d04-a3d0-46271cf32bde",
   "metadata": {},
   "source": [
    "# Send Alerts with wandb.alert\n",
    "> Send alerts, triggered from your Python code, to your Slack or email"
   ]
  },
  {
   "cell_type": "markdown",
   "id": "f7cfeeab-57aa-410e-9381-610b7894c369",
   "metadata": {},
   "source": [
    "## Steps to send alerts:\n",
    "- Turn on [wandb.alert()](https://wandb.ai/settings) in your Wandb. You can choose to receive alert via Email or Slack. You can turn other events on as well.\n",
    "\n",
    "![Turn on alert like this](assets/alert.jpg)\n",
    "\n",
    "- Add `wandb.alert()` to Your Code"
   ]
  },
  {
   "cell_type": "markdown",
   "id": "42b37c90-da8b-4719-b794-587ed90a8a86",
   "metadata": {},
   "source": [
    "## Syntax"
   ]
  },
  {
   "cell_type": "code",
   "execution_count": null,
   "id": "40336184-d0b4-4276-b232-9c5036dfea5c",
   "metadata": {},
   "outputs": [],
   "source": [
    "wandb.alert(\n",
    "    title=\"Until I found you\", \n",
    "    text='I would never fall in love again until I found her. I said, \"I would never fall unless it\\'s you I fall into\". I was lost within the darkness, but then I found her. I found you.'\n",
    ")"
   ]
  },
  {
   "cell_type": "markdown",
   "id": "43599f51-f28e-47cb-8ec6-e5dd46fa8e8a",
   "metadata": {},
   "source": [
    "Check your Email/ Slack for the alert message. If you do not receive it, check your [wandb setting](https://wandb.ai/settings) or your spam mail."
   ]
  },
  {
   "cell_type": "markdown",
   "id": "c04a15c0-a09a-4896-a534-3e330052f34d",
   "metadata": {},
   "source": [
    "## Example"
   ]
  },
  {
   "cell_type": "code",
   "execution_count": null,
   "id": "0e571db5-2983-4e20-a776-d54accd492cc",
   "metadata": {},
   "outputs": [],
   "source": [
    "import wandb\n",
    "from wandb import AlertLevel\n",
    "import random\n",
    "\n",
    "first_dice = random.randint(1, 6)\n",
    "second_dice = random.randint(1, 6)\n",
    "\n",
    "wandb.alert(\n",
    "    title=\"Sum of 2 dices\", \n",
    "    text=f\"You get {first_dice + second_dice}, wowwwwwwwwwwwwwwwww\",\n",
    "    level=AlertLevel.WARN\n",
    ")"
   ]
  },
  {
   "cell_type": "markdown",
   "id": "d6d90815-4d3d-41f1-8a75-f582beab9639",
   "metadata": {},
   "source": [
    ":::{.callout-note}\n",
    "Click [here](https://docs.wandb.ai/guides/track/alert) for more about wanda.alert().\n",
    ":::"
   ]
  },
  {
   "cell_type": "code",
   "execution_count": null,
   "id": "4d07d859-b3b7-41cc-9eb3-b4c62b86b47d",
   "metadata": {},
   "outputs": [],
   "source": []
  }
 ],
 "metadata": {
  "kernelspec": {
   "display_name": "Python 3 (ipykernel)",
   "language": "python",
   "name": "python3"
  },
  "language_info": {
   "codemirror_mode": {
    "name": "ipython",
    "version": 3
   },
   "file_extension": ".py",
   "mimetype": "text/x-python",
   "name": "python",
   "nbconvert_exporter": "python",
   "pygments_lexer": "ipython3",
   "version": "3.10.8"
  }
 },
 "nbformat": 4,
 "nbformat_minor": 5
}
