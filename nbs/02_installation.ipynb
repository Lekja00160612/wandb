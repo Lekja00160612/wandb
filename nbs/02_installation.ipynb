{
 "cells": [
  {
   "cell_type": "markdown",
   "id": "8963e1b4-2199-4d30-a0b9-bad4b3fd2085",
   "metadata": {},
   "source": [
    "# Installation\n",
    "> Fast installation in 2 minutes"
   ]
  },
  {
   "cell_type": "markdown",
   "id": "9d52148f-c71c-4388-b971-2c8dcaad29e5",
   "metadata": {},
   "source": [
    "## Step-by-step installation"
   ]
  },
  {
   "cell_type": "markdown",
   "id": "31bc2f83-5612-470a-87cb-367ecab47013",
   "metadata": {},
   "source": [
    "### Sign up a wandb's account\n",
    "\n",
    "Sign up for a free account at [wandb's site](https://wandb.ai/site) and then login to your wandb account.\n",
    "\n",
    "### Install with `pip`\n",
    "\n",
    "Install the CLI and Python library for interacting with the wandb API:"
   ]
  },
  {
   "cell_type": "code",
   "execution_count": null,
   "id": "e7939764-4b24-4f85-8e91-6de709441c06",
   "metadata": {},
   "outputs": [],
   "source": [
    "pip install wandb"
   ]
  },
  {
   "cell_type": "markdown",
   "id": "7e4eb83d-49c8-43f2-ab21-0af77c697b9c",
   "metadata": {},
   "source": [
    "### Get the API Key\n",
    "\n",
    "Access [this page](https://wandb.ai/authorize) for getting API Key fast."
   ]
  },
  {
   "cell_type": "markdown",
   "id": "db3fb0ba-860e-41be-9d18-fe09e2ccc7c6",
   "metadata": {},
   "source": [
    "### Login to wandb"
   ]
  },
  {
   "cell_type": "code",
   "execution_count": null,
   "id": "aecf86be-9199-46ff-b452-9880e301330b",
   "metadata": {},
   "outputs": [],
   "source": [
    "wandb login"
   ]
  },
  {
   "cell_type": "markdown",
   "id": "9635125a-7aae-4690-9691-d4dff9727c05",
   "metadata": {},
   "source": [
    "or"
   ]
  },
  {
   "cell_type": "code",
   "execution_count": null,
   "id": "3293b840-e4e1-46d6-add2-36361d8cc8c8",
   "metadata": {},
   "outputs": [],
   "source": [
    "wandb login --host=http://wandb.your-shared-local-host.com`"
   ]
  },
  {
   "cell_type": "markdown",
   "id": "40023f71-e798-473a-b3aa-8128197e68d8",
   "metadata": {},
   "source": [
    "While running, wandb asks you to type the **API key** which you get from the above page."
   ]
  },
  {
   "cell_type": "markdown",
   "id": "41adb497-b1b7-4d0e-ac19-4f27b89632b5",
   "metadata": {},
   "source": [
    "## What's next?"
   ]
  }
 ],
 "metadata": {
  "kernelspec": {
   "display_name": "Python 3 (ipykernel)",
   "language": "python",
   "name": "python3"
  },
  "language_info": {
   "codemirror_mode": {
    "name": "ipython",
    "version": 3
   },
   "file_extension": ".py",
   "mimetype": "text/x-python",
   "name": "python",
   "nbconvert_exporter": "python",
   "pygments_lexer": "ipython3",
   "version": "3.10.8"
  }
 },
 "nbformat": 4,
 "nbformat_minor": 5
}
