{
 "cells": [
  {
   "cell_type": "markdown",
   "id": "8963e1b4-2199-4d30-a0b9-bad4b3fd2085",
   "metadata": {},
   "source": [
    "# Installation\n",
    "> Fast installation in 2 minutes"
   ]
  },
  {
   "cell_type": "markdown",
   "id": "31bc2f83-5612-470a-87cb-367ecab47013",
   "metadata": {},
   "source": [
    "## 1. Sign up a wandb's account\n",
    "Sign up for a free account at [wandb's site](https://wandb.ai/site) and then login to your wandb account."
   ]
  },
  {
   "cell_type": "markdown",
   "id": "516ac3c9-f900-4c3f-8468-fa7fda6defed",
   "metadata": {},
   "source": [
    "## 2. Install with `pip`"
   ]
  },
  {
   "cell_type": "markdown",
   "id": "01d9b92d-1ee3-48fd-b440-aeb4c1663736",
   "metadata": {},
   "source": [
    "Install the CLI and Python library for interacting with the Weights and Biases API:\n",
    "\n",
    "`pip install wandb`"
   ]
  },
  {
   "cell_type": "markdown",
   "id": "7e4eb83d-49c8-43f2-ab21-0af77c697b9c",
   "metadata": {},
   "source": [
    "## 3. Get the API Key"
   ]
  },
  {
   "cell_type": "markdown",
   "id": "e0262468-32f6-4007-a0f9-103d1a7781fe",
   "metadata": {},
   "source": [
    "Access [this page](https://wandb.ai/authorize) for getting API Key fast."
   ]
  },
  {
   "cell_type": "markdown",
   "id": "db3fb0ba-860e-41be-9d18-fe09e2ccc7c6",
   "metadata": {},
   "source": [
    "## 4. Login to wandb\n",
    "\n",
    "Login to wandb cloud:\n",
    "\n",
    "`wandb login`\n",
    "\n",
    "or using [wandb server](https://docs.wandb.ai/guides/self-hosted):\n",
    "\n",
    "`wandb login --host=http://wandb.your-shared-local-host.com`\n",
    "\n",
    "While running, wandb asks you to type the **API key** which you get from the above page."
   ]
  },
  {
   "cell_type": "markdown",
   "id": "41adb497-b1b7-4d0e-ac19-4f27b89632b5",
   "metadata": {},
   "source": [
    "## 5. What's next?"
   ]
  },
  {
   "cell_type": "code",
   "execution_count": null,
   "id": "ba5f49b0-b6e3-4d85-aa19-20ac2099c52d",
   "metadata": {},
   "outputs": [],
   "source": []
  }
 ],
 "metadata": {
  "kernelspec": {
   "display_name": "Python 3 (ipykernel)",
   "language": "python",
   "name": "python3"
  },
  "language_info": {
   "codemirror_mode": {
    "name": "ipython",
    "version": 3
   },
   "file_extension": ".py",
   "mimetype": "text/x-python",
   "name": "python",
   "nbconvert_exporter": "python",
   "pygments_lexer": "ipython3",
   "version": "3.10.8"
  }
 },
 "nbformat": 4,
 "nbformat_minor": 5
}
