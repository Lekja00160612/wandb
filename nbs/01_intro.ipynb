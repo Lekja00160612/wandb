{
 "cells": [
  {
   "cell_type": "markdown",
   "id": "29595551-1fab-4b03-b7cd-000c7066a5e8",
   "metadata": {},
   "source": [
    "# Say hello to Wandb\n",
    "> This notebook works as an introduction of Wandb (Weights & Biases)"
   ]
  },
  {
   "cell_type": "code",
   "execution_count": null,
   "id": "1b94b7b3-de82-4c36-bb6a-9a16da8532a1",
   "metadata": {},
   "outputs": [],
   "source": [
    "#| hide\n",
    "from nbdev.showdoc import *"
   ]
  },
  {
   "cell_type": "code",
   "execution_count": null,
   "id": "e22e08fd-7fee-4b67-8c09-beaadc2834d6",
   "metadata": {},
   "outputs": [],
   "source": [
    "#| hide\n",
    "import nbdev"
   ]
  },
  {
   "cell_type": "markdown",
   "id": "0fefe5d7-f93a-45dd-a5f3-c3088be9aa10",
   "metadata": {},
   "source": [
    "## What is Wandb?\n",
    "[Wandb](https://nbdev.fast.ai/) is an experiment management and model tracking platform for machine learning. It provides a platform for logging, visualizing, and comparing the performance of machine learning models."
   ]
  },
  {
   "cell_type": "code",
   "execution_count": null,
   "id": "df2419df-479f-4655-aa63-c936586e8596",
   "metadata": {},
   "outputs": [],
   "source": [
    "#| hide\n",
    "#TODO: list disadvantages of tensorboard"
   ]
  },
  {
   "cell_type": "markdown",
   "id": "c3fcb79b-38ca-4dcd-be20-a80c526b2f29",
   "metadata": {},
   "source": [
    "## Why Wandb\n",
    "You may know about Tensorboard, which also provides the visualization and tooling needed for machine learning experimentation. However, Wandb goes beyond what TensorBoard offers. \n",
    "- **Easy to use**: W&B has a simple and intuitive interface that makes it easy to log, visualize, and compare machine learning experiments.\n",
    "- **Collaboration**: W&B provides collaboration tools to enable teams to work together on experiments and share results with each other.\n",
    "- **Versatile**: W&B integrates with a wide range of machine learning frameworks and libraries, making it a flexible and powerful tool for experiment management.\n",
    "- **Advanced visualizations**: W&B provides advanced visualizations for comparing experiments, including scatter plots, histograms, and 3D plots, which make it easier to understand and interpret results.\n",
    "- **Model analysis**: W&B provides a range of tools for analyzing model performance, including hyperparameter tuning, model comparison, and feature importance analysis.\n",
    "- **Model reproducibility**: W&B makes it easy to store and reproduce experiments, including code, data, and results, ensuring that experiments can be repeated and validated.\n",
    "- **Cloud-based**: W&B is cloud-based, which means that users can access their experiments and results from anywhere and don't have to worry about managing infrastructure.\n",
    "Therefore, `Wandb` is a suitable alternative because it has the ability of dealing with the above backdraws."
   ]
  },
  {
   "cell_type": "markdown",
   "id": "955ab6af-a1a6-4e58-8e48-ea00f95f3ca4",
   "metadata": {},
   "source": [
    "## What is Wandb?"
   ]
  }
 ],
 "metadata": {
  "kernelspec": {
   "display_name": "Python 3 (ipykernel)",
   "language": "python",
   "name": "python3"
  }
 },
 "nbformat": 4,
 "nbformat_minor": 5
}
