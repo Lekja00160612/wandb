{
 "cells": [
  {
   "cell_type": "markdown",
   "id": "29595551-1fab-4b03-b7cd-000c7066a5e8",
   "metadata": {},
   "source": [
    "# Say hello to Wandb\n",
    "> Introduction to a wonderful tool - Wandb (Weights & Biases)"
   ]
  },
  {
   "cell_type": "markdown",
   "id": "0fefe5d7-f93a-45dd-a5f3-c3088be9aa10",
   "metadata": {},
   "source": [
    "## What is Wandb?\n",
    "[Wandb](https://nbdev.fast.ai/) is an experiment management and model tracking platform for machine learning. It provides a platform for logging, visualizing, and comparing the performance of machine learning models."
   ]
  },
  {
   "cell_type": "markdown",
   "id": "c3fcb79b-38ca-4dcd-be20-a80c526b2f29",
   "metadata": {},
   "source": [
    "## Why is Wandb ?\n",
    "> Read this if you wonder why we choose using Wandb instead of Tensorboard. If you don't, you can read this just for more knowdledge.\n",
    "\n",
    "You may know about Tensorboard, which also provides the visualization and tooling needed for machine learning experimentation. However, Wandb goes beyond what TensorBoard offers:\n",
    "\n",
    "- **Easy to use**: Wandb has a simple and intuitive interface that makes it easy to log, visualize, and compare machine learning experiments.\n",
    "\n",
    "- **Collaboration**: Wandb provides collaboration tools to enable teams to work together on experiments and share results with each other.\n",
    "\n",
    "- **Versatile**: Wandb integrates with a wide range of machine learning frameworks and libraries, making it a flexible and powerful tool for experiment management.\n",
    "\n",
    "- **Advanced visualizations**: Wandb provides advanced visualizations for comparing experiments, including scatter plots, histograms, and 3D plots, which make it easier to understand and interpret results.\n",
    "\n",
    "- **Model analysis**: Wandb provides a range of tools for analyzing model performance, including hyperparameter tuning, model comparison, and feature importance analysis.\n",
    "\n",
    "- **Model reproducibility**: Wandb makes it easy to store and reproduce experiments, including code, data, and results, ensuring that experiments can be repeated and validated.\n",
    "\n",
    "- **Cloud-based**: Wandb is cloud-based, which means that users can access their experiments and results from anywhere and don't have to worry about managing infrastructure.\n",
    "\n",
    "Therefore, **Wandb** is a suitable alternative for Tensorboard"
   ]
  },
  {
   "cell_type": "markdown",
   "id": "c085a440-9f44-47ee-a260-bcc2b0eed8ba",
   "metadata": {},
   "source": [
    "## How is Wandb ?\n",
    "{{< video https://www.youtube.com/embed/EIgoKitLUqM >}}"
   ]
  }
 ],
 "metadata": {
  "kernelspec": {
   "display_name": "Python 3 (ipykernel)",
   "language": "python",
   "name": "python3"
  },
  "language_info": {
   "codemirror_mode": {
    "name": "ipython",
    "version": 3
   },
   "file_extension": ".py",
   "mimetype": "text/x-python",
   "name": "python",
   "nbconvert_exporter": "python",
   "pygments_lexer": "ipython3",
   "version": "3.10.8"
  }
 },
 "nbformat": 4,
 "nbformat_minor": 5
}
